{
 "cells": [
  {
   "cell_type": "markdown",
   "id": "f37a0821",
   "metadata": {},
   "source": [
    "\n",
    "Problem 1\n",
    "Read the following Wikipedia article: https://en.wikipedia.org/wiki/Pascal%27s_triangle about bi- nomial coefficients and Pascal’s triangle. Implement a class: binomial_coefficients that computes bi- nomial coefficients using Pascal’s rule. This is the recursion relation, not the formula with factorials. The objects of this class should not recompute the coefficients computed already. This could be useful if the user repeatedly calls the methods of this class. Thus, previously computed values (and possibly some extra values as deemed convenient) should be stored in an internal variable of the object.\n"
   ]
  },
  {
   "cell_type": "markdown",
   "id": "1b2d1fd2",
   "metadata": {},
   "source": [
    "Hi (if you see this), This really is not a good reflection of my work, honestly in the past two weeks I have been dealing with alot outside of school with my family that I ran out of time with this assignment. I dont want this to reflect on me as a student, I tried my hardest to complete most of it and the parts that I couldnt I wrote out what I would have done. "
   ]
  },
  {
   "cell_type": "markdown",
   "id": "f4152391",
   "metadata": {},
   "source": [
    "The class should have the following public methods:\n",
    "   􏰀\n",
    "􏰀\n",
    "􏰀\n",
    "\n",
    "\n",
    "get_n(self, n) should return a list of binomial coefficients for the expansion of the n-th order poly- nomial (x + y)n, which form the n-th line of Pascal’s triangle. Zeroth line is just 1.\n",
    "\n",
    "\n",
    "􏰁n􏰂 get_nk(self, n, k) should return k .\n",
    "\n",
    "\n",
    "save_pt(self, n, file_name = 'pascal_triangle.txt')shouldsavethePascal’strianglewithn+ 1 lines (from 0 to n) in a text file. The triangle should be formatted so that the numbers in the first lines are in the center not on either edge; see the first two figures in the Wikipedia article."
   ]
  },
  {
   "cell_type": "code",
   "execution_count": 3,
   "id": "19a4ae46",
   "metadata": {},
   "outputs": [],
   "source": [
    "b = binomial_coefficients()"
   ]
  },
  {
   "cell_type": "code",
   "execution_count": 24,
   "id": "056d93d9",
   "metadata": {},
   "outputs": [
    {
     "name": "stdout",
     "output_type": "stream",
     "text": [
      "None\n",
      "4.0\n"
     ]
    }
   ],
   "source": [
    "class binomial_coefficients:\n",
    "    def get_n(self,n):\n",
    "        #return a list of binomial coefficients \n",
    "        #basically it should be returning a row of pascals triangle \n",
    "        #use recusion \n",
    "        if n == 0:\n",
    "            return 1 #for values of n  0 and 1 it would just be equal to be 1 \n",
    "        if n == 1: \n",
    "            return 1 \n",
    "        st = [1,1] #starting the list with just 1,1 bc in pascals triangle the sides of lined with ones\n",
    "        pas = [1,1] #this is the row of pascals triangle that we will be adding to \n",
    "        for i in range(2, n+1): #for when the value of n is 2 and above \n",
    "            st = pas\n",
    "            pas = [1]\n",
    "            for i in range(len(st)-1):\n",
    "                pas.append(st[i]+st[i+1]) #add to the row\n",
    "            pas.append(1)\n",
    "        return pas\n",
    "#b = binomial_coefficients()\n",
    "#print(b.get_n(4))\n",
    "    def get_nk(self,n,k):\n",
    "        if n == 0 or n == 1: #if n is zero or one return one\n",
    "            return 1 \n",
    "        def factorial(x): #made another function in this called factorial to do the math of solving n choose k \n",
    "            if x == 0:\n",
    "                return 1 \n",
    "            return x*factorial(x-1) #factorial equation so it can be used in the next step \n",
    "        return factorial(n)/(factorial(k)*factorial(n-k))#this is the n choose k equation just written out \n",
    "\n",
    "    def save_pt(self, n, file_name = 'pascal_triangle.txt'):\n",
    "        f = open('pascal_triangle.txt', 'w') #open the file \n",
    "        triangle = [] #create an empty list to store the triangle \n",
    "        #I also struggled with creating the pascals triangle in full format\n",
    "        #my thought process would have been that you start with an empty list where you will be able to add in the numbers \n",
    "        #then for each row you would iterate through the rows and do the math on which number would be placed in the row using a formual \n",
    "        #Once all the rows are created you would use the center function in order to center the triangle and then print it out \n",
    "            \n",
    "b = binomial_coefficients()            \n",
    "print(b.save_pt(5))\n",
    "print(b.get_nk(4,1))\n",
    "#print(b.get_nk(3,4))"
   ]
  },
  {
   "cell_type": "markdown",
   "id": "da690b8e",
   "metadata": {},
   "source": [
    "With this problem, we will begin divining into the Human Microbiome Project data. Visit the following webpage: https://hmpdacc.org/hmp/HMQCP/ and download the mapping file for v13 region. Its name should be “v13 map uniquebyPSN.txt”. Write Python scripts to accomplish the following tasks:"
   ]
  },
  {
   "cell_type": "markdown",
   "id": "4c99fc10",
   "metadata": {},
   "source": [
    "􏰀\n",
    "Determine the number of samples available for just the first visit.\n",
    "\n",
    "\n",
    "For each body site, create a file that contains the ids of the samples from that body site. The file name should contain the name of the body site."
   ]
  },
  {
   "cell_type": "code",
   "execution_count": 12,
   "id": "342d29ac",
   "metadata": {},
   "outputs": [
    {
     "name": "stdout",
     "output_type": "stream",
     "text": [
      "1685\n"
     ]
    }
   ],
   "source": [
    "target = [] #create an empty list to append column of interest too \n",
    "with open('v13_map_uniquebyPSN.txt') as file: #open the file \n",
    "    \n",
    "    for line in file: #for loop to go through each line of the file \n",
    "        row = line.split() #seperate out the columns by using split \n",
    "        target.append(row[2]) #add to the list the column of interest \n",
    "#print(target)\n",
    "count = 0  #start the count to be at zero\n",
    "for i in target: #everytime there is a 1 in the column count it \n",
    "    if i == '1': \n",
    "        count = count +1 \n",
    "print(count)"
   ]
  },
  {
   "cell_type": "code",
   "execution_count": 15,
   "id": "d730a04a",
   "metadata": {},
   "outputs": [
    {
     "name": "stdout",
     "output_type": "stream",
     "text": [
      "18\n",
      "['Stool', 'Saliva', 'Tongue_dorsum', 'Hard_palate', 'Buccal_mucosa', 'Attached_Keratinized_gingiva', 'Palatine_Tonsils', 'Throat', 'Supragingival_plaque', 'Subgingival_plaque', 'Anterior_nares', 'Left_Retroauricular_crease', 'Right_Retroauricular_crease', 'Right_Antecubital_fossa', 'Vaginal_introitus', 'Mid_vagina', 'Posterior_fornix', 'Left_Antecubital_fossa']\n",
      "{'Stool': None, 'Saliva': None, 'Tongue_dorsum': None, 'Hard_palate': None, 'Buccal_mucosa': None, 'Attached_Keratinized_gingiva': None, 'Palatine_Tonsils': None, 'Throat': None, 'Supragingival_plaque': None, 'Subgingival_plaque': None, 'Anterior_nares': None, 'Left_Retroauricular_crease': None, 'Right_Retroauricular_crease': None, 'Right_Antecubital_fossa': None, 'Vaginal_introitus': None, 'Mid_vagina': None, 'Posterior_fornix': None, 'Left_Antecubital_fossa': None}\n"
     ]
    }
   ],
   "source": [
    "f = open('v13_map_uniquebyPSN.txt')\n",
    "data = f.readlines()\n",
    "d= {}\n",
    "body_site = [] #create an empty list to put in the \n",
    "for i in range(len(data)):\n",
    "    for line in data[1:]:\n",
    "        line = line.split()\n",
    "        if line[5] not in body_site: #if it is not already in the list append it to the list called body_site\n",
    "            body_site.append(line[5])\n",
    "print(len(body_site))\n",
    "print(body_site)\n",
    "\n",
    "for i in body_site: #make a dictionary with the keys being the body sites and then leave the elements to be empty to add in the ids later \n",
    "    d[i]= None \n",
    "print(d)\n",
    "\n",
    "#for l in data[1:]:\n",
    "   # if l[5] == body_site:"
   ]
  },
  {
   "cell_type": "markdown",
   "id": "515a6ceb",
   "metadata": {},
   "source": [
    "I had diffculty coding when it came to this question. I know what I ultimately wanted to do but couldnt exactly figure out how to get it to code correctly. After making the lists that contained the 18 body sites the next step was to create a dictionary with the keys being the body sites. The elements in the dictionary would then be the sample ids that match with the body sites. Currently coded was up till the dictionary with the keys being the body sites and then the elements were just null values. the next step was to iterate through and match the sample ids and then append them to the dictionary where i fell into trouble. Below is pseudo code of what I would have done but couldnt figure out how to write it out in code"
   ]
  },
  {
   "cell_type": "markdown",
   "id": "dfcec245",
   "metadata": {},
   "source": [
    "for i in body_site: #go back to the columns of the file \n",
    "    if columns[5] == body_site[i]: #so when they match up \n",
    "        here you would have a statement to append the sample id of that position into the dictionary \n",
    "        d[keyvalue] = column[0] #column 0 would be the sample id and that would append to the dictionary \n",
    "     writeout each key/element to a file \n",
    " \n",
    "        \n"
   ]
  }
 ],
 "metadata": {
  "kernelspec": {
   "display_name": "Python 3",
   "language": "python",
   "name": "python3"
  },
  "language_info": {
   "codemirror_mode": {
    "name": "ipython",
    "version": 3
   },
   "file_extension": ".py",
   "mimetype": "text/x-python",
   "name": "python",
   "nbconvert_exporter": "python",
   "pygments_lexer": "ipython3",
   "version": "3.8.8"
  }
 },
 "nbformat": 4,
 "nbformat_minor": 5
}
