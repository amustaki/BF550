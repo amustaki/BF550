{
 "cells": [
  {
   "cell_type": "code",
   "execution_count": 1,
   "id": "73cf01cd",
   "metadata": {},
   "outputs": [],
   "source": [
    "import numpy as np \n",
    "import pandas as pd \n",
    "import matplotlib.pyplot as plt\n",
    "import seaborn as sns\n",
    "from sklearn.preprocessing import StandardScaler\n",
    "import math"
   ]
  },
  {
   "cell_type": "code",
   "execution_count": 2,
   "id": "78fdd790",
   "metadata": {},
   "outputs": [],
   "source": [
    "df = pd.read_csv('figure2h.csv')\n",
    "data = df.drop(columns = ['raw.counts.D0','raw.counts.D6.IL2','raw.counts.D6.H9','raw.counts.D6.H9T','chrom','FDR (-10*log10 transformed)','symbol','summit','bindingTo','dist2TSS'])\n",
    "#print(data)\n",
    "newdata = data.T\n",
    "#print(newdata) #drop the label column \n",
    "#logdata = np.log10(newdata)\n",
    "#logdata = np.log2(newdata)\n",
    "#print(logdata)\n",
    "#updated = logdata.dropna(axis=0)\n",
    "\n",
    "#print(len(newdata))\n",
    "#newdata.shape()\n",
    "#print(len(newdata[3]))\n",
    "#na = logdata.isna()\n",
    "\n",
    "#logdata.info()\n",
    "for i in range(55200):\n",
    "    for j in range(4):\n",
    "        if newdata[i][j] == 0:\n",
    "            newdata[i][j] = 1\n",
    "            #print(i)\n",
    "            #print(j)\n",
    "logdata = np.log2(newdata)\n"
   ]
  },
  {
   "cell_type": "code",
   "execution_count": 3,
   "id": "57e4f73c",
   "metadata": {},
   "outputs": [
    {
     "name": "stdout",
     "output_type": "stream",
     "text": [
      "                      0         1         2         3          4      \\\n",
      "normalized.D0      3.832168  2.855341  2.554778  1.916084  10.594816   \n",
      "normalized.D6.IL2  2.839392  3.199950  1.126743  2.118277  10.230825   \n",
      "normalized.D6.H9   3.215382  2.956077  1.348386  2.593050  11.824307   \n",
      "normalized.D6.H9T  3.293180  2.406554  1.013286  2.111013  11.737230   \n",
      "\n",
      "                       5          6         7          8          9      ...  \\\n",
      "normalized.D0      12.623611  16.606060  0.488414  11.233511  20.250376  ...   \n",
      "normalized.D6.IL2  17.351841  22.084161  1.847858   8.337897  21.272906  ...   \n",
      "normalized.D6.H9   17.580877  23.285587  1.659552  10.372199  23.596753  ...   \n",
      "normalized.D6.H9T  16.381458  19.632418  0.337762  11.061706  23.010038  ...   \n",
      "\n",
      "                      55190     55191     55192     55193     55194     55195  \\\n",
      "normalized.D0      6.687508  1.916084  0.976827  1.465241  1.014397  0.864116   \n",
      "normalized.D6.IL2  8.337897  1.712649  2.704183  8.923804  2.163346  0.721115   \n",
      "normalized.D6.H9   8.660786  1.192803  2.696772  9.179396  2.022579  0.933498   \n",
      "normalized.D6.H9T  4.559787  0.506643  0.591084  0.971066  1.393268  1.266608   \n",
      "\n",
      "                       55196     55197     55198     55199  \n",
      "normalized.D0      35.053062  0.450843  2.216646  4.996846  \n",
      "normalized.D6.IL2  50.297803  4.732320  1.532370  3.064741  \n",
      "normalized.D6.H9   58.136176  6.741929  1.711413  2.541189  \n",
      "normalized.D6.H9T  47.877767  0.506643  1.857691  4.137585  \n",
      "\n",
      "[4 rows x 55200 columns]\n"
     ]
    }
   ],
   "source": [
    "print(newdata)"
   ]
  },
  {
   "cell_type": "code",
   "execution_count": 4,
   "id": "f1213c1c",
   "metadata": {},
   "outputs": [],
   "source": [
    "#X = np.concatenate(newdata, axis = 1) # combine data from all sites\n",
    "#X = X.T\n",
    "#print('Shape of X ', X.shape)"
   ]
  },
  {
   "cell_type": "code",
   "execution_count": 5,
   "id": "75e4677f",
   "metadata": {},
   "outputs": [],
   "source": [
    "from sklearn.decomposition import PCA\n",
    "sc = StandardScaler\n",
    "from sklearn.preprocessing import StandardScaler\n",
    "#sc = StandardScaler()\n",
    "#X = sc.fit_transform(newdata)\n",
    "#results = [D0means,IL2means,H9means,H9Tmeans]\n",
    "#print(results)\n",
    "#print(D0means)\n",
    "#meandata = pd.DataFrame([[D0means,IL2means,H9means,H9Tmeans]],columns = ['D0','IL2','H9','H9T'])\n",
    "\n",
    "#print(meandata)\n",
    "# finding principle components\n",
    "pca = PCA(n_components = 2) # this defines the model, there are 4 features in the data \n",
    "p = pca.fit(logdata) # this fits the model\n",
    "variance = pca.explained_variance_ratio_"
   ]
  },
  {
   "cell_type": "code",
   "execution_count": 6,
   "id": "cd567340",
   "metadata": {},
   "outputs": [
    {
     "name": "stdout",
     "output_type": "stream",
     "text": [
      "Variance Explained:  [0.7701133 0.1921677]\n"
     ]
    }
   ],
   "source": [
    "print('Variance Explained: ', pca.explained_variance_ratio_)"
   ]
  },
  {
   "cell_type": "code",
   "execution_count": 7,
   "id": "aa2672df",
   "metadata": {},
   "outputs": [],
   "source": [
    "#pc = pd.DataFrame(data = p, columns = [\"PC1\",\"PC2\"])\n",
    "#print(pc)\n",
    "#logdata = np.log(pc)\n",
    "#print(logdata)"
   ]
  },
  {
   "cell_type": "code",
   "execution_count": 8,
   "id": "7195a29e",
   "metadata": {},
   "outputs": [
    {
     "data": {
      "text/plain": [
       "Text(-100, -5, 'IL-2')"
      ]
     },
     "execution_count": 8,
     "metadata": {},
     "output_type": "execute_result"
    },
    {
     "data": {
      "image/png": "[encoded data removed]",
      "text/plain": [
       "<Figure size 432x288 with 1 Axes>"
      ]
     },
     "metadata": {
      "needs_background": "light"
     },
     "output_type": "display_data"
    }
   ],
   "source": [
    "X_pca = pca.transform(logdata) # transform the data into PCA space\n",
    "#print(X_pca)\n",
    "plt.scatter(X_pca[:,0],X_pca[:,1], color = ['k','#61B8FD','#9CFFD2','magenta'],s=150)\n",
    "#positions = [200,100,0,-100,-200]\n",
    "#labels = ['-2','-1','0','1','2']\n",
    "#plt.xticks(positions,labels)\n",
    "#print(X_pca[0:1])\n",
    "#print(X_pca)\n",
    "plt.xlim(300, -200) #i flipped the axis to match they way the figure had it \n",
    "plt.ylim(-200,200)\n",
    "ypos = [-200,-100,0,100,200]\n",
    "#ylab = [-2,-1,0,1,2]\n",
    "plt.yticks(ypos)\n",
    "plt.xlabel('Principal Component 1 (77% var.)')\n",
    "plt.ylabel('Principal Component 2 (19.2 var.)')\n",
    "\n",
    "plt.annotate('Con',(206, -100))\n",
    "plt.annotate('H9T', (25,150))\n",
    "plt.annotate('H9', (-150,-15))\n",
    "plt.annotate('IL-2', (-100,-5))\n",
    "#print(X_pca[0:1])\n",
    "#con = list(X_pca[0:1])\n",
    "#print(con[0:1])"
   ]
  },
  {
   "cell_type": "code",
   "execution_count": null,
   "id": "4395f2e8",
   "metadata": {},
   "outputs": [],
   "source": []
  },
  {
   "cell_type": "code",
   "execution_count": null,
   "id": "4dae80e1",
   "metadata": {},
   "outputs": [],
   "source": []
  }
 ],
 "metadata": {
  "kernelspec": {
   "display_name": "Python 3",
   "language": "python",
   "name": "python3"
  },
  "language_info": {
   "codemirror_mode": {
    "name": "ipython",
    "version": 3
   },
   "file_extension": ".py",
   "mimetype": "text/x-python",
   "name": "python",
   "nbconvert_exporter": "python",
   "pygments_lexer": "ipython3",
   "version": "3.8.8"
  }
 },
 "nbformat": 4,
 "nbformat_minor": 5
}
